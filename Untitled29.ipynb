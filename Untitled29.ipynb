{
 "cells": [
  {
   "cell_type": "code",
   "execution_count": 26,
   "metadata": {},
   "outputs": [],
   "source": [
    "# Niveau 5\n",
    "n_noeuds = 37\n",
    "liens = [[2, 5], [14, 13], [16, 13], [19, 21], [13, 7], [16, 8], [35, 5], [2, 35], [10, 0], [8, 3], [23, 16], [0, 1], [31, 17], [19, 22], [12, 11], [1, 2], [1, 4], [14, 9], [17, 16], [30, 29], [32, 22], [28, 26], [24, 23], [20, 19], [15, 13], [18, 17], [6, 1], [29, 28], [15, 14], [9, 13], [32, 18], [25, 26], [1, 7], [34, 35], [33, 34], [27, 16], [27, 26], [23, 25], [33, 3], [16, 30], [25, 24], [3, 2], [5, 4], [31, 32], [27, 25], [19, 3], [17, 8], [4, 2], [32, 17], [10, 11], [29, 27], [30, 27], [6, 4], [24, 15], [9, 10], [34, 2], [9, 7], [11, 6], [33, 2], [14, 10], [12, 6], [0, 6], [19, 17], [20, 3], [21, 20], [21, 32], [15, 16], [0, 9], [23, 27], [11, 0], [28, 27], [22, 18], [3, 1], [23, 15], [18, 19], [7, 0], [19, 8], [21, 22], [7, 36], [13, 36], [8, 36]]\n",
    "portes = [0, 16, 18, 26]\n",
    "\n",
    "#---\n",
    "import pandas as pd\n",
    "\n",
    "n_liens = len(liens)\n",
    "n_portes = len(portes)\n",
    "\n",
    "noeuds = []\n",
    "for i in range(n_noeuds):\n",
    "    noeuds.append(i)\n",
    "for lien in liens:\n",
    "    for noeud in noeuds:\n",
    "        if noeud in portes:\n",
    "            noeuds.remove(noeud)\n",
    "            \n",
    "def liensDuNoeud(noeud):\n",
    "    res = []\n",
    "    for lien in liens:\n",
    "        if noeud in lien:\n",
    "            res.append(lien)\n",
    "    return res\n",
    "\n",
    "def noeudsDirects(noeud):\n",
    "    res = []\n",
    "    for lien in liensDuNoeud(noeud):\n",
    "        if noeud == lien[0]:\n",
    "            res.append(lien[1])\n",
    "        else:\n",
    "            res.append(lien[0])\n",
    "    return res\n",
    "\n",
    "def portesDirectes(noeud):\n",
    "    res = []\n",
    "    for noeud in noeudsDirects(noeud):\n",
    "        if noeud in portes:\n",
    "            res.append(noeud)\n",
    "    return res\n",
    "\n",
    "def cheminsDuNoeud(noeud):\n",
    "    res = []\n",
    "    for lien in liensDuNoeud(noeud):\n",
    "        chemin = lien if lien[0] == noeud else [noeud, lien[0]]\n",
    "        res.append(chemin)\n",
    "    return res\n",
    "\n",
    "def noeuds_multiportes():\n",
    "    res = []\n",
    "    for noeud in noeuds:\n",
    "        if len(portesDirectes(noeud)) > 1:\n",
    "            res.append(noeud)\n",
    "    return res\n",
    "\n",
    "def lienDuChemin(chemin):\n",
    "    for lien in liens:\n",
    "        if lien == chemin or lien == chemin[::-1]:\n",
    "            return lien\n",
    "        \n",
    "def porteDuLien(lien):\n",
    "    for noeud in lien:\n",
    "        if noeud in portes:\n",
    "            return noeud\n",
    "\n",
    "def reductionChemin(chemin):\n",
    "    res = [chemin[0]]\n",
    "    for i,noeud in enumerate(chemin[:-1]):\n",
    "        if noeud != chemin[i+1]:\n",
    "            res.append(chemin[i+1])\n",
    "    return res\n",
    "\n",
    "def cheminsPossibles(noeud, prof):\n",
    "    res = [[noeud]]\n",
    "    for i in range(prof):\n",
    "        chemins = res\n",
    "        res = []\n",
    "        for chemin in chemins:\n",
    "            for c in cheminsDuNoeud(chemin[-1]):\n",
    "                res.append(chemin+c)\n",
    "    for i,chemin in enumerate(res):\n",
    "        chemin.pop(0)\n",
    "        res[i] = reductionChemin(chemin)\n",
    "        for e in res[i][:-1]:\n",
    "            if e in portes:\n",
    "                res[i] = res[i][:prof]\n",
    "    return (res)\n",
    "\n",
    "def noeudPlusProche(si,noeuds):\n",
    "    profondeur = 0\n",
    "    while True:\n",
    "        profondeur += 1\n",
    "        for c in cheminsPossibles(si,profondeur):\n",
    "            for noeud in noeuds:\n",
    "                if noeud in c:\n",
    "                    return noeud\n",
    "\n",
    "def df_noeuds():\n",
    "    liste_noeuds = []\n",
    "    for noeud in noeuds:\n",
    "        i_noeud            = noeud\n",
    "        nb_liens           = len(liensDuNoeud(noeud))\n",
    "        liens_du_noeud     = liensDuNoeud(noeud)\n",
    "        nb_noeuds_directs  = len(noeudsDirects(noeud))\n",
    "        noeuds_directs     = noeudsDirects(noeud)\n",
    "        nb_portes_directes = len(portesDirectes(noeud))\n",
    "        portes_directes    = portesDirectes(noeud)\n",
    "\n",
    "        liste_noeuds.append([i_noeud, nb_liens, liens_du_noeud, nb_noeuds_directs, noeuds_directs, nb_portes_directes, portes_directes])\n",
    "    \n",
    "    df_noeuds = pd.DataFrame(liste_noeuds, columns=[\"noeud n°\",\"nb liens\",\"liens\",\"nb noeuds Directs\",\"noeuds Directs\",\"nb portes directes\",\"portes directes\"])    \n",
    "    df_noeuds.sort_values(by='nb portes directes',ascending=False, inplace=True)\n",
    "    return df_noeuds\n",
    "\n",
    "    \n",
    "def df_portes():\n",
    "    liste_portes = []\n",
    "    for porte in portes:\n",
    "        i_porte            = porte\n",
    "        nb_liens           = len(liensDuNoeud(porte))\n",
    "        liens_de_la_porte  = liensDuNoeud(porte)\n",
    "        nb_noeuds_directs  = len(noeudsDirects(porte))\n",
    "        noeuds_directs     = noeudsDirects(porte)\n",
    "        \n",
    "        liste_portes.append([i_porte, nb_liens, liens_de_la_porte, nb_noeuds_directs, noeuds_directs])\n",
    "        \n",
    "    df_portes = pd.DataFrame(liste_portes, columns=[\"porte n°\",\"nb liens\",\"liens\",\"nb noeuds Directs\",\"noeuds Directs\"])    \n",
    "    return df_portes\n",
    "\n",
    "def df_chemins(noeud_depart, profondeur):\n",
    "    liste_chemins = []\n",
    "    for c in cheminsPossibles(noeud_depart, profondeur):\n",
    "        for porte in portes:\n",
    "            if porte in c:\n",
    "                prof   = c.index(porte)\n",
    "                chemin = c[prof-1:prof+1]\n",
    "                lien   = lienDuChemin(chemin)\n",
    "                porte  = porteDuLien(lien)\n",
    "                nbLiensPorte = len(cheminsDuNoeud(porte))\n",
    "\n",
    "                liste_chemins.append([c, prof, porte, lien, nbLiensPorte, cheminsDuNoeud(porte)])\n",
    "    colonnes = ['chemin', 'profondeur', 'porte', 'lien sensible', 'nb liens porte', 'chemins de la porte']\n",
    "    df = pd.DataFrame(liste_chemins, columns=colonnes)\n",
    "    df['chemin'] = df['chemin'].astype(str)\n",
    "    df.drop_duplicates(subset='chemin', inplace=True)\n",
    "    df[\"chemin\"] = df[\"chemin\"].str.strip(\"[]\")\n",
    "    df[\"chemin\"] = df[\"chemin\"].str.split(\",\")\n",
    "    df.sort_values(by='profondeur', inplace=True)\n",
    "    return pd.DataFrame(df, columns=colonnes)\n",
    "\n",
    "\n",
    "noeuds_forcants = []\n",
    "for noeud in noeuds:\n",
    "    if len(portesDirectes(noeud)) >= 1:\n",
    "        noeuds_forcants.append(noeud)\n",
    "\n",
    "liens_noeuds_forcants = []\n",
    "for n1 in noeuds_forcants:\n",
    "    for n2 in noeuds_forcants:\n",
    "        if [n1,n2] in liens:\n",
    "            liens_noeuds_forcants.append([n1,n2])\n",
    "\n",
    "def liens_des_noeuds_forcants_du_noeud_forcant(noeud_forcant):\n",
    "    res = []\n",
    "    for lien in liens_noeuds_forcants:\n",
    "        if noeud_forcant in lien:\n",
    "            res.append(lien)\n",
    "    return res\n",
    "\n",
    "def chemins_forcants_du_noeud_forcant(noeud_forcant):\n",
    "    res = []\n",
    "    for lien in liens_des_noeuds_forcants_du_noeud_forcant(noeud_forcant):\n",
    "        chemin = lien if lien[0] == noeud_forcant else [noeud_forcant, lien[0]]\n",
    "        res.append(chemin)\n",
    "    return res\n",
    "chemins_forcants_du_noeud_forcant(9)\n",
    "\n",
    "def cheminsPossiblesNoeudsForcants(noeud_forcant, prof):\n",
    "    res = [[noeud_forcant]]\n",
    "    for i in range(prof):\n",
    "        chemins = res\n",
    "        res = []\n",
    "        for chemin in chemins:\n",
    "            for c in chemins_forcants_du_noeud_forcant(chemin[-1]):\n",
    "                if c[-1] not in chemin:\n",
    "                    res.append(chemin+c)\n",
    "    for i,chemin in enumerate(res):\n",
    "        chemin.pop(0)\n",
    "        res[i] = reductionChemin(chemin)\n",
    "    return (res)\n",
    "\n",
    "def noeuds_forcants_de_la_liste(liste):\n",
    "    res = []\n",
    "    for voisin in liste:\n",
    "        if voisin in noeuds_forcants:\n",
    "            res.append(voisin)\n",
    "    return res\n",
    "\n",
    "def cheminSensible(si):\n",
    "    n = noeuds_forcants_de_la_liste([si] + noeudsDirects(si))[0]\n",
    "    alerte = False\n",
    "    i=1\n",
    "    while i<10:\n",
    "        for chemin in cheminsPossiblesNoeudsForcants(n,i):\n",
    "            for noeud in chemin:\n",
    "                if noeud in noeuds_multiportes():\n",
    "                    return chemin\n",
    "        i+=1\n",
    "\n",
    "\n",
    "def print_str_lien(lien):\n",
    "    print(str(lien[0]) + \" \" + str(lien[1]))"
   ]
  },
  {
   "cell_type": "code",
   "execution_count": 27,
   "metadata": {},
   "outputs": [],
   "source": [
    "lll = [2,1,7,13,15,23,27,30]\n",
    "lll = [2,1,7,13,15,23,27,30,27,23]\n",
    "# lll = [2,1]"
   ]
  },
  {
   "cell_type": "code",
   "execution_count": 28,
   "metadata": {},
   "outputs": [
    {
     "name": "stdout",
     "output_type": "stream",
     "text": [
      "si: 2\t[27, 16]\n",
      "si: 1\t[0, 1]\n",
      "si: 7\t[7, 0]\n",
      "si: 13\t[16, 13]\n",
      "si: 15\t[15, 16]\n",
      "si: 23\t[23, 16]\n"
     ]
    },
    {
     "ename": "IndexError",
     "evalue": "list index out of range",
     "output_type": "error",
     "traceback": [
      "\u001b[1;31m---------------------------------------------------------------------------\u001b[0m",
      "\u001b[1;31mIndexError\u001b[0m                                Traceback (most recent call last)",
      "\u001b[1;32m<ipython-input-28-542fa4bc4936>\u001b[0m in \u001b[0;36m<module>\u001b[1;34m\u001b[0m\n\u001b[0;32m     13\u001b[0m \u001b[1;33m\u001b[0m\u001b[0m\n\u001b[0;32m     14\u001b[0m     \u001b[1;32mif\u001b[0m \u001b[0mnoeuds_forcants_de_la_liste\u001b[0m\u001b[1;33m(\u001b[0m\u001b[0mlien_a_couper\u001b[0m\u001b[1;33m)\u001b[0m \u001b[1;32mis\u001b[0m \u001b[1;32mnot\u001b[0m \u001b[1;32mNone\u001b[0m\u001b[1;33m:\u001b[0m\u001b[1;33m\u001b[0m\u001b[1;33m\u001b[0m\u001b[0m\n\u001b[1;32m---> 15\u001b[1;33m         \u001b[0mnoeuds_forcants\u001b[0m\u001b[1;33m.\u001b[0m\u001b[0mremove\u001b[0m\u001b[1;33m(\u001b[0m\u001b[0mnoeuds_forcants_de_la_liste\u001b[0m\u001b[1;33m(\u001b[0m\u001b[0mlien_a_couper\u001b[0m\u001b[1;33m)\u001b[0m\u001b[1;33m[\u001b[0m\u001b[1;36m0\u001b[0m\u001b[1;33m]\u001b[0m\u001b[1;33m)\u001b[0m\u001b[1;33m\u001b[0m\u001b[1;33m\u001b[0m\u001b[0m\n\u001b[0m\u001b[0;32m     16\u001b[0m \u001b[1;33m\u001b[0m\u001b[0m\n\u001b[0;32m     17\u001b[0m     \u001b[0mliens\u001b[0m\u001b[1;33m.\u001b[0m\u001b[0mremove\u001b[0m\u001b[1;33m(\u001b[0m\u001b[0mlien_a_couper\u001b[0m\u001b[1;33m)\u001b[0m\u001b[1;33m\u001b[0m\u001b[1;33m\u001b[0m\u001b[0m\n",
      "\u001b[1;31mIndexError\u001b[0m: list index out of range"
     ]
    }
   ],
   "source": [
    "# tour de jeu :\n",
    "for e in lll:\n",
    "    si = e\n",
    "    profondeur = 2\n",
    "\n",
    "    if df_chemins(si, profondeur)[\"profondeur\"].min() == 1:\n",
    "        lien_a_couper = df_chemins(si, profondeur)['lien sensible'].iloc[0]\n",
    "    else:\n",
    "        if cheminSensible(si) is None:\n",
    "            lien_a_couper = [noeudsDirects(portes[0])[0], portes[0]]\n",
    "        else:\n",
    "            lien_a_couper = lienDuChemin([cheminSensible(si)[-1], portesDirectes(cheminSensible(si)[-1])[0]])\n",
    "            \n",
    "    if noeuds_forcants_de_la_liste(lien_a_couper) is not None:\n",
    "        noeuds_forcants.remove(noeuds_forcants_de_la_liste(lien_a_couper)[0])\n",
    "        \n",
    "    \n",
    "    liens.remove(lien_a_couper)\n",
    "    print(\"si: \" + str(si) + \"\\t\" +str(lien_a_couper))\n"
   ]
  },
  {
   "cell_type": "code",
   "execution_count": 76,
   "metadata": {},
   "outputs": [
    {
     "data": {
      "text/plain": [
       "[27, 25, 30, 23, 28]"
      ]
     },
     "execution_count": 76,
     "metadata": {},
     "output_type": "execute_result"
    }
   ],
   "source": [
    "noeuds_forcants_de_la_liste([27] + noeudsDirects(27))"
   ]
  },
  {
   "cell_type": "code",
   "execution_count": 28,
   "metadata": {},
   "outputs": [],
   "source": [
    "i=4"
   ]
  },
  {
   "cell_type": "code",
   "execution_count": 34,
   "metadata": {},
   "outputs": [
    {
     "data": {
      "text/plain": [
       "[[27, 25, 23, 15, 13, 9, 7, 1, 6, 11, 10],\n",
       " [27, 25, 23, 15, 13, 9, 10, 11, 6, 1, 7],\n",
       " [27, 25, 23, 15, 13, 7, 1, 6, 11, 10, 9],\n",
       " [27, 25, 23, 15, 13, 7, 9, 10, 11, 6, 1]]"
      ]
     },
     "execution_count": 34,
     "metadata": {},
     "output_type": "execute_result"
    }
   ],
   "source": [
    "i+=1\n",
    "cheminsPossiblesNoeudsForcants(27,i)"
   ]
  },
  {
   "cell_type": "code",
   "execution_count": 22,
   "metadata": {},
   "outputs": [
    {
     "data": {
      "text/plain": [
       "[17]"
      ]
     },
     "execution_count": 22,
     "metadata": {},
     "output_type": "execute_result"
    }
   ],
   "source": [
    "noeuds_multiportes()"
   ]
  },
  {
   "cell_type": "code",
   "execution_count": 58,
   "metadata": {},
   "outputs": [
    {
     "ename": "KeyboardInterrupt",
     "evalue": "",
     "output_type": "error",
     "traceback": [
      "\u001b[1;31m---------------------------------------------------------------------------\u001b[0m",
      "\u001b[1;31mKeyboardInterrupt\u001b[0m                         Traceback (most recent call last)",
      "\u001b[1;32m<ipython-input-58-e9873e497493>\u001b[0m in \u001b[0;36m<module>\u001b[1;34m\u001b[0m\n\u001b[0;32m      1\u001b[0m \u001b[1;31m# overflow\u001b[0m\u001b[1;33m\u001b[0m\u001b[1;33m\u001b[0m\u001b[1;33m\u001b[0m\u001b[0m\n\u001b[0;32m      2\u001b[0m \u001b[1;33m\u001b[0m\u001b[0m\n\u001b[1;32m----> 3\u001b[1;33m \u001b[0mcheminSensible\u001b[0m\u001b[1;33m(\u001b[0m\u001b[1;36m27\u001b[0m\u001b[1;33m)\u001b[0m\u001b[1;33m\u001b[0m\u001b[1;33m\u001b[0m\u001b[0m\n\u001b[0m",
      "\u001b[1;32m<ipython-input-55-2e345f028239>\u001b[0m in \u001b[0;36mcheminSensible\u001b[1;34m(si)\u001b[0m\n\u001b[0;32m    203\u001b[0m     \u001b[0mi\u001b[0m\u001b[1;33m=\u001b[0m\u001b[1;36m1\u001b[0m\u001b[1;33m\u001b[0m\u001b[1;33m\u001b[0m\u001b[0m\n\u001b[0;32m    204\u001b[0m     \u001b[1;32mwhile\u001b[0m \u001b[1;32mTrue\u001b[0m\u001b[1;33m:\u001b[0m\u001b[1;33m\u001b[0m\u001b[1;33m\u001b[0m\u001b[0m\n\u001b[1;32m--> 205\u001b[1;33m         \u001b[1;32mfor\u001b[0m \u001b[0mchemin\u001b[0m \u001b[1;32min\u001b[0m \u001b[0mcheminsPossiblesNoeudsForcants\u001b[0m\u001b[1;33m(\u001b[0m\u001b[0mn\u001b[0m\u001b[1;33m,\u001b[0m\u001b[0mi\u001b[0m\u001b[1;33m)\u001b[0m\u001b[1;33m:\u001b[0m\u001b[1;33m\u001b[0m\u001b[1;33m\u001b[0m\u001b[0m\n\u001b[0m\u001b[0;32m    206\u001b[0m             \u001b[1;32mfor\u001b[0m \u001b[0mnoeud\u001b[0m \u001b[1;32min\u001b[0m \u001b[0mchemin\u001b[0m\u001b[1;33m:\u001b[0m\u001b[1;33m\u001b[0m\u001b[1;33m\u001b[0m\u001b[0m\n\u001b[0;32m    207\u001b[0m                 \u001b[1;32mif\u001b[0m \u001b[0mnoeud\u001b[0m \u001b[1;32min\u001b[0m \u001b[0mnoeuds_multiportes\u001b[0m\u001b[1;33m(\u001b[0m\u001b[1;33m)\u001b[0m\u001b[1;33m:\u001b[0m\u001b[1;33m\u001b[0m\u001b[1;33m\u001b[0m\u001b[0m\n",
      "\u001b[1;32m<ipython-input-55-2e345f028239>\u001b[0m in \u001b[0;36mcheminsPossiblesNoeudsForcants\u001b[1;34m(noeud_forcant, prof)\u001b[0m\n\u001b[0;32m    182\u001b[0m         \u001b[0mchemins\u001b[0m \u001b[1;33m=\u001b[0m \u001b[0mres\u001b[0m\u001b[1;33m\u001b[0m\u001b[1;33m\u001b[0m\u001b[0m\n\u001b[0;32m    183\u001b[0m         \u001b[0mres\u001b[0m \u001b[1;33m=\u001b[0m \u001b[1;33m[\u001b[0m\u001b[1;33m]\u001b[0m\u001b[1;33m\u001b[0m\u001b[1;33m\u001b[0m\u001b[0m\n\u001b[1;32m--> 184\u001b[1;33m         \u001b[1;32mfor\u001b[0m \u001b[0mchemin\u001b[0m \u001b[1;32min\u001b[0m \u001b[0mchemins\u001b[0m\u001b[1;33m:\u001b[0m\u001b[1;33m\u001b[0m\u001b[1;33m\u001b[0m\u001b[0m\n\u001b[0m\u001b[0;32m    185\u001b[0m             \u001b[1;32mfor\u001b[0m \u001b[0mc\u001b[0m \u001b[1;32min\u001b[0m \u001b[0mchemins_forcants_du_noeud_forcant\u001b[0m\u001b[1;33m(\u001b[0m\u001b[0mchemin\u001b[0m\u001b[1;33m[\u001b[0m\u001b[1;33m-\u001b[0m\u001b[1;36m1\u001b[0m\u001b[1;33m]\u001b[0m\u001b[1;33m)\u001b[0m\u001b[1;33m:\u001b[0m\u001b[1;33m\u001b[0m\u001b[1;33m\u001b[0m\u001b[0m\n\u001b[0;32m    186\u001b[0m                 \u001b[1;32mif\u001b[0m \u001b[0mc\u001b[0m\u001b[1;33m[\u001b[0m\u001b[1;33m-\u001b[0m\u001b[1;36m1\u001b[0m\u001b[1;33m]\u001b[0m \u001b[1;32mnot\u001b[0m \u001b[1;32min\u001b[0m \u001b[0mchemin\u001b[0m\u001b[1;33m:\u001b[0m\u001b[1;33m\u001b[0m\u001b[1;33m\u001b[0m\u001b[0m\n",
      "\u001b[1;31mKeyboardInterrupt\u001b[0m: "
     ]
    }
   ],
   "source": [
    "# overflow\n",
    "si = 27\n",
    "cheminSensible(si)"
   ]
  },
  {
   "cell_type": "code",
   "execution_count": 120,
   "metadata": {},
   "outputs": [
    {
     "data": {
      "text/plain": [
       "[1, 7, 13, 15, 23, 27]"
      ]
     },
     "execution_count": 120,
     "metadata": {},
     "output_type": "execute_result"
    }
   ],
   "source": [
    "cheminSensible(2)"
   ]
  },
  {
   "cell_type": "code",
   "execution_count": 118,
   "metadata": {},
   "outputs": [
    {
     "data": {
      "text/plain": [
       "[27, 16]"
      ]
     },
     "execution_count": 118,
     "metadata": {},
     "output_type": "execute_result"
    }
   ],
   "source": [
    "[cheminSensible(2)[-1], portesDirectes(cheminSensible(2)[-1])[0]]"
   ]
  },
  {
   "cell_type": "code",
   "execution_count": 117,
   "metadata": {},
   "outputs": [
    {
     "data": {
      "text/plain": [
       "[16, 26]"
      ]
     },
     "execution_count": 117,
     "metadata": {},
     "output_type": "execute_result"
    }
   ],
   "source": [
    "portesDirectes(cheminSensible(2)[-1])"
   ]
  },
  {
   "cell_type": "code",
   "execution_count": 110,
   "metadata": {},
   "outputs": [],
   "source": [
    "# La plupart des liens sont renforcés : votre virus n'a plus la possibilité de couper les liens entre deux nœuds normaux : \n",
    "# il ne peut que couper les liens qui relient directement un nœud et une passerelle. S'il tente de couper un lien entre \n",
    "# deux nœuds il se fera détruire par Bobnet."
   ]
  },
  {
   "cell_type": "code",
   "execution_count": null,
   "metadata": {},
   "outputs": [],
   "source": []
  }
 ],
 "metadata": {
  "kernelspec": {
   "display_name": "Python 3",
   "language": "python",
   "name": "python3"
  },
  "language_info": {
   "codemirror_mode": {
    "name": "ipython",
    "version": 3
   },
   "file_extension": ".py",
   "mimetype": "text/x-python",
   "name": "python",
   "nbconvert_exporter": "python",
   "pygments_lexer": "ipython3",
   "version": "3.7.6"
  }
 },
 "nbformat": 4,
 "nbformat_minor": 4
}
