{
 "cells": [
  {
   "cell_type": "code",
   "execution_count": 2,
   "metadata": {},
   "outputs": [],
   "source": [
    "# niveau 1\n",
    "\n",
    "n_noeuds = 8\n",
    "liens    = [[6, 2], [7, 3], [6, 3], [5, 3], [3, 4], [7, 1], [2, 0], [0, 1], [0, 3], [1, 3], [2, 3], [7, 4], [6, 5]]\n",
    "portes   = [4, 5]\n",
    "# départ noeud 0\n",
    "\n",
    "\n",
    "noeuds = []\n",
    "for i in range(n_noeuds):\n",
    "    noeuds.append(i)\n",
    "for lien in liens:\n",
    "    for noeud in noeuds:\n",
    "        if noeud in portes:\n",
    "            noeuds.remove(noeud)"
   ]
  },
  {
   "cell_type": "code",
   "execution_count": 3,
   "metadata": {},
   "outputs": [],
   "source": [
    "def liensDuNoeud(noeud):\n",
    "    res = []\n",
    "    for lien in liens:\n",
    "        if noeud in lien:\n",
    "            res.append(lien)\n",
    "    return res\n",
    "\n",
    "def noeudsDirects(noeud):\n",
    "    res = []\n",
    "    for lien in liensDuNoeud(noeud):\n",
    "        if noeud == lien[0]:\n",
    "            res.append(lien[1])\n",
    "        else:\n",
    "            res.append(lien[0])\n",
    "    return res\n",
    "\n",
    "def portesDirectes(noeud):\n",
    "    res = []\n",
    "    for noeud in noeudsDirects(noeud):\n",
    "        if noeud in portes:\n",
    "            res.append(noeud)\n",
    "    return res\n",
    "\n",
    "def cheminsDuNoeud(noeud):\n",
    "    res = []\n",
    "    for lien in liensDuNoeud(noeud):\n",
    "        chemin = lien if lien[0] == noeud else [noeud, lien[0]]\n",
    "        res.append(chemin)\n",
    "    return res\n",
    "\n",
    "def noeuds_multiportes():\n",
    "    res = []\n",
    "    for noeud in noeuds:\n",
    "        if len(portesDirectes(noeud)) > 1:\n",
    "            res.append(noeud)\n",
    "    return res\n",
    "\n",
    "def lienDuChemin(chemin):\n",
    "    for lien in liens:\n",
    "        if lien == chemin or lien == chemin[::-1]:\n",
    "            return lien\n",
    "        \n",
    "def porteDuLien(lien):\n",
    "    for noeud in lien:\n",
    "        if noeud in portes:\n",
    "            return noeud"
   ]
  },
  {
   "cell_type": "code",
   "execution_count": 57,
   "metadata": {},
   "outputs": [],
   "source": [
    "# chemins possibles\n",
    "res = []\n",
    "si = 0 \n",
    "profondeur = 1\n",
    "\n",
    "\n",
    "        \n",
    "        \n"
   ]
  },
  {
   "cell_type": "code",
   "execution_count": 58,
   "metadata": {},
   "outputs": [
    {
     "data": {
      "text/plain": [
       "[[0, 2], [0, 1], [0, 3]]"
      ]
     },
     "execution_count": 58,
     "metadata": {},
     "output_type": "execute_result"
    }
   ],
   "source": [
    "res = []\n",
    "if len(res) == 0:\n",
    "    for chemin in cheminsDuNoeud(si):\n",
    "        res.append(chemin)\n",
    "res"
   ]
  },
  {
   "cell_type": "code",
   "execution_count": 59,
   "metadata": {},
   "outputs": [],
   "source": [
    "def reduChemin(chemin):\n",
    "    res = [chemin[0]]\n",
    "    for i,e in enumerate(chemin[:-1]):\n",
    "        if e != chemin[i+1]:\n",
    "            res.append(chemin[i+1])\n",
    "    return res"
   ]
  },
  {
   "cell_type": "code",
   "execution_count": 69,
   "metadata": {},
   "outputs": [
    {
     "data": {
      "text/plain": [
       "[[0, 2], [0, 1], [0, 3]]"
      ]
     },
     "execution_count": 69,
     "metadata": {},
     "output_type": "execute_result"
    }
   ],
   "source": [
    "def cheminsPossibles(noeud_depart, profondeur):\n",
    "    i = 1\n",
    "    res = []\n",
    "    for chemin in cheminsDuNoeud(noeud_depart):\n",
    "        res.append(chemin)\n",
    "    \n",
    "    while i < profondeur:\n",
    "        for c in res:\n",
    "            res.append(reduChemin())\n",
    "    \n",
    "    \n",
    "    return res\n",
    "\n",
    "cheminsPossibles(0,1)"
   ]
  },
  {
   "cell_type": "code",
   "execution_count": 8,
   "metadata": {},
   "outputs": [
    {
     "data": {
      "text/plain": [
       "[[0, 2], [0, 1], [0, 3]]"
      ]
     },
     "execution_count": 8,
     "metadata": {},
     "output_type": "execute_result"
    }
   ],
   "source": [
    "res = []\n",
    "si = 0\n",
    "\n",
    "\n",
    "if len(res) == 0:\n",
    "    for chemin in cheminsDuNoeud(si):\n",
    "        res.append(chemin)\n",
    "res"
   ]
  },
  {
   "cell_type": "code",
   "execution_count": 56,
   "metadata": {},
   "outputs": [],
   "source": [
    "def cheminsSup(chemins, profondeur):\n",
    "    i = 0\n",
    "    res = []\n",
    "    if type(chemins) == int:\n",
    "        res = cheminsDuNoeud(chemins)\n",
    "    else:\n",
    "        while i<profondeur:\n",
    "            for c1 in res:\n",
    "                for c2 in cheminsDuNoeud(c1[-1]):\n",
    "                    res.append(c1+c2)\n",
    "            i+=1\n",
    "    return res"
   ]
  },
  {
   "cell_type": "code",
   "execution_count": 57,
   "metadata": {},
   "outputs": [
    {
     "data": {
      "text/plain": [
       "[[0, 2], [0, 1], [0, 3]]"
      ]
     },
     "execution_count": 57,
     "metadata": {},
     "output_type": "execute_result"
    }
   ],
   "source": [
    "cheminsSup(0,4)"
   ]
  },
  {
   "cell_type": "code",
   "execution_count": 43,
   "metadata": {},
   "outputs": [
    {
     "data": {
      "text/plain": [
       "[[0, 2, 2, 6],\n",
       " [0, 2, 2, 0],\n",
       " [0, 2, 2, 3],\n",
       " [0, 1, 1, 7],\n",
       " [0, 1, 1, 0],\n",
       " [0, 1, 1, 3],\n",
       " [0, 3, 3, 7],\n",
       " [0, 3, 3, 6],\n",
       " [0, 3, 3, 5],\n",
       " [0, 3, 3, 4],\n",
       " [0, 3, 3, 0],\n",
       " [0, 3, 3, 1],\n",
       " [0, 3, 3, 2]]"
      ]
     },
     "execution_count": 43,
     "metadata": {},
     "output_type": "execute_result"
    }
   ],
   "source": [
    "cheminsSup(cheminsSup(0))"
   ]
  },
  {
   "cell_type": "code",
   "execution_count": 67,
   "metadata": {},
   "outputs": [
    {
     "name": "stdout",
     "output_type": "stream",
     "text": [
      "[0, 2, 6, 2, 6]\n",
      "[0, 2, 6, 2, 0]\n",
      "[0, 2, 6, 2, 3]\n",
      "[0, 2, 6, 3, 7]\n",
      "[0, 2, 6, 3, 6]\n",
      "[0, 2, 6, 3, 5]\n",
      "[0, 2, 6, 3, 4]\n",
      "[0, 2, 6, 3, 0]\n",
      "[0, 2, 6, 3, 1]\n",
      "[0, 2, 6, 3, 2]\n",
      "[0, 2, 6, 5, 3]\n",
      "[0, 2, 6, 5, 6]\n",
      "[0, 2, 0, 2, 6]\n",
      "[0, 2, 0, 2, 0]\n",
      "[0, 2, 0, 2, 3]\n",
      "[0, 2, 0, 1, 7]\n",
      "[0, 2, 0, 1, 0]\n",
      "[0, 2, 0, 1, 3]\n",
      "[0, 2, 0, 3, 7]\n",
      "[0, 2, 0, 3, 6]\n",
      "[0, 2, 0, 3, 5]\n",
      "[0, 2, 0, 3, 4]\n",
      "[0, 2, 0, 3, 0]\n",
      "[0, 2, 0, 3, 1]\n",
      "[0, 2, 0, 3, 2]\n",
      "[0, 2, 3, 7, 3]\n",
      "[0, 2, 3, 7, 1]\n",
      "[0, 2, 3, 7, 4]\n",
      "[0, 2, 3, 6, 2]\n",
      "[0, 2, 3, 6, 3]\n",
      "[0, 2, 3, 6, 5]\n",
      "[0, 2, 3, 5, 3]\n",
      "[0, 2, 3, 5, 6]\n",
      "[0, 2, 3, 4, 3]\n",
      "[0, 2, 3, 4, 7]\n",
      "[0, 2, 3, 0, 2]\n",
      "[0, 2, 3, 0, 1]\n",
      "[0, 2, 3, 0, 3]\n",
      "[0, 2, 3, 1, 7]\n",
      "[0, 2, 3, 1, 0]\n",
      "[0, 2, 3, 1, 3]\n",
      "[0, 2, 3, 2, 6]\n",
      "[0, 2, 3, 2, 0]\n",
      "[0, 2, 3, 2, 3]\n",
      "[0, 1, 7, 3, 7]\n",
      "[0, 1, 7, 3, 6]\n",
      "[0, 1, 7, 3, 5]\n",
      "[0, 1, 7, 3, 4]\n",
      "[0, 1, 7, 3, 0]\n",
      "[0, 1, 7, 3, 1]\n",
      "[0, 1, 7, 3, 2]\n",
      "[0, 1, 7, 1, 7]\n",
      "[0, 1, 7, 1, 0]\n",
      "[0, 1, 7, 1, 3]\n",
      "[0, 1, 7, 4, 3]\n",
      "[0, 1, 7, 4, 7]\n",
      "[0, 1, 0, 2, 6]\n",
      "[0, 1, 0, 2, 0]\n",
      "[0, 1, 0, 2, 3]\n",
      "[0, 1, 0, 1, 7]\n",
      "[0, 1, 0, 1, 0]\n",
      "[0, 1, 0, 1, 3]\n",
      "[0, 1, 0, 3, 7]\n",
      "[0, 1, 0, 3, 6]\n",
      "[0, 1, 0, 3, 5]\n",
      "[0, 1, 0, 3, 4]\n",
      "[0, 1, 0, 3, 0]\n",
      "[0, 1, 0, 3, 1]\n",
      "[0, 1, 0, 3, 2]\n",
      "[0, 1, 3, 7, 3]\n",
      "[0, 1, 3, 7, 1]\n",
      "[0, 1, 3, 7, 4]\n",
      "[0, 1, 3, 6, 2]\n",
      "[0, 1, 3, 6, 3]\n",
      "[0, 1, 3, 6, 5]\n",
      "[0, 1, 3, 5, 3]\n",
      "[0, 1, 3, 5, 6]\n",
      "[0, 1, 3, 4, 3]\n",
      "[0, 1, 3, 4, 7]\n",
      "[0, 1, 3, 0, 2]\n",
      "[0, 1, 3, 0, 1]\n",
      "[0, 1, 3, 0, 3]\n",
      "[0, 1, 3, 1, 7]\n",
      "[0, 1, 3, 1, 0]\n",
      "[0, 1, 3, 1, 3]\n",
      "[0, 1, 3, 2, 6]\n",
      "[0, 1, 3, 2, 0]\n",
      "[0, 1, 3, 2, 3]\n",
      "[0, 3, 7, 3, 7]\n",
      "[0, 3, 7, 3, 6]\n",
      "[0, 3, 7, 3, 5]\n",
      "[0, 3, 7, 3, 4]\n",
      "[0, 3, 7, 3, 0]\n",
      "[0, 3, 7, 3, 1]\n",
      "[0, 3, 7, 3, 2]\n",
      "[0, 3, 7, 1, 7]\n",
      "[0, 3, 7, 1, 0]\n",
      "[0, 3, 7, 1, 3]\n",
      "[0, 3, 7, 4, 3]\n",
      "[0, 3, 7, 4, 7]\n",
      "[0, 3, 6, 2, 6]\n",
      "[0, 3, 6, 2, 0]\n",
      "[0, 3, 6, 2, 3]\n",
      "[0, 3, 6, 3, 7]\n",
      "[0, 3, 6, 3, 6]\n",
      "[0, 3, 6, 3, 5]\n",
      "[0, 3, 6, 3, 4]\n",
      "[0, 3, 6, 3, 0]\n",
      "[0, 3, 6, 3, 1]\n",
      "[0, 3, 6, 3, 2]\n",
      "[0, 3, 6, 5, 3]\n",
      "[0, 3, 6, 5, 6]\n",
      "[0, 3, 5, 3, 7]\n",
      "[0, 3, 5, 3, 6]\n",
      "[0, 3, 5, 3, 5]\n",
      "[0, 3, 5, 3, 4]\n",
      "[0, 3, 5, 3, 0]\n",
      "[0, 3, 5, 3, 1]\n",
      "[0, 3, 5, 3, 2]\n",
      "[0, 3, 5, 6, 2]\n",
      "[0, 3, 5, 6, 3]\n",
      "[0, 3, 5, 6, 5]\n",
      "[0, 3, 4, 3, 7]\n",
      "[0, 3, 4, 3, 6]\n",
      "[0, 3, 4, 3, 5]\n",
      "[0, 3, 4, 3, 4]\n",
      "[0, 3, 4, 3, 0]\n",
      "[0, 3, 4, 3, 1]\n",
      "[0, 3, 4, 3, 2]\n",
      "[0, 3, 4, 7, 3]\n",
      "[0, 3, 4, 7, 1]\n",
      "[0, 3, 4, 7, 4]\n",
      "[0, 3, 0, 2, 6]\n",
      "[0, 3, 0, 2, 0]\n",
      "[0, 3, 0, 2, 3]\n",
      "[0, 3, 0, 1, 7]\n",
      "[0, 3, 0, 1, 0]\n",
      "[0, 3, 0, 1, 3]\n",
      "[0, 3, 0, 3, 7]\n",
      "[0, 3, 0, 3, 6]\n",
      "[0, 3, 0, 3, 5]\n",
      "[0, 3, 0, 3, 4]\n",
      "[0, 3, 0, 3, 0]\n",
      "[0, 3, 0, 3, 1]\n",
      "[0, 3, 0, 3, 2]\n",
      "[0, 3, 1, 7, 3]\n",
      "[0, 3, 1, 7, 1]\n",
      "[0, 3, 1, 7, 4]\n",
      "[0, 3, 1, 0, 2]\n",
      "[0, 3, 1, 0, 1]\n",
      "[0, 3, 1, 0, 3]\n",
      "[0, 3, 1, 3, 7]\n",
      "[0, 3, 1, 3, 6]\n",
      "[0, 3, 1, 3, 5]\n",
      "[0, 3, 1, 3, 4]\n",
      "[0, 3, 1, 3, 0]\n",
      "[0, 3, 1, 3, 1]\n",
      "[0, 3, 1, 3, 2]\n",
      "[0, 3, 2, 6, 2]\n",
      "[0, 3, 2, 6, 3]\n",
      "[0, 3, 2, 6, 5]\n",
      "[0, 3, 2, 0, 2]\n",
      "[0, 3, 2, 0, 1]\n",
      "[0, 3, 2, 0, 3]\n",
      "[0, 3, 2, 3, 7]\n",
      "[0, 3, 2, 3, 6]\n",
      "[0, 3, 2, 3, 5]\n",
      "[0, 3, 2, 3, 4]\n",
      "[0, 3, 2, 3, 0]\n",
      "[0, 3, 2, 3, 1]\n",
      "[0, 3, 2, 3, 2]\n"
     ]
    }
   ],
   "source": [
    "for c1 in res:\n",
    "    \n",
    "    \n",
    "    \n",
    "#     print(c1+cheminsDuNoeud(c1[-1]))\n",
    "    \n",
    "#     for c2 in cheminsDuNoeud(c1[-1]):\n",
    "# #         print (c1 + c2)\n",
    "#         for c3 in cheminsDuNoeud(c2[-1]):\n",
    "# #             print(c1+c2+c3)\n",
    "# #             print(reduChemin(c1+c2+c3))\n",
    "# #             print('---')\n",
    "#             for c4 in cheminsDuNoeud(c3[-1]):\n",
    "#                 print(reduChemin(c1+c2+c3+c4))\n",
    "\n"
   ]
  },
  {
   "cell_type": "code",
   "execution_count": 54,
   "metadata": {},
   "outputs": [
    {
     "data": {
      "text/plain": [
       "0"
      ]
     },
     "execution_count": 54,
     "metadata": {},
     "output_type": "execute_result"
    }
   ],
   "source": [
    "a[-1]"
   ]
  },
  {
   "cell_type": "code",
   "execution_count": null,
   "metadata": {},
   "outputs": [],
   "source": []
  }
 ],
 "metadata": {
  "kernelspec": {
   "display_name": "Python 3",
   "language": "python",
   "name": "python3"
  },
  "language_info": {
   "codemirror_mode": {
    "name": "ipython",
    "version": 3
   },
   "file_extension": ".py",
   "mimetype": "text/x-python",
   "name": "python",
   "nbconvert_exporter": "python",
   "pygments_lexer": "ipython3",
   "version": "3.7.6"
  }
 },
 "nbformat": 4,
 "nbformat_minor": 4
}
