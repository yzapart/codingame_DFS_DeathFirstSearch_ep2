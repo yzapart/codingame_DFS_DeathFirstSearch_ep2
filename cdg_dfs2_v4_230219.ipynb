{
 "cells": [
  {
   "cell_type": "code",
   "execution_count": 5,
   "metadata": {},
   "outputs": [],
   "source": [
    "    # mauvaise manière sur la class graph : il faut un getter pour récupérer les liste sinon on doit les mettre à jour à chaque fois\n",
    "    \n",
    "    # ----------------- refonder toute la décision lien_a_couper(si) à partir du sub-graph -------------\n"
   ]
  },
  {
   "cell_type": "code",
   "execution_count": 1,
   "metadata": {},
   "outputs": [],
   "source": [
    "import sys\n",
    "import math\n",
    "from queue import Queue\n",
    "from collections import deque"
   ]
  },
  {
   "cell_type": "code",
   "execution_count": 2,
   "metadata": {},
   "outputs": [],
   "source": [
    "class Graph:\n",
    "    def __init__(self, nodes, edges, gw):\n",
    "        self.nodes = nodes\n",
    "        self.edges = edges\n",
    "        self.gw = gw\n",
    "        self.adj_list = {node: [] for node in self.nodes}\n",
    "        for edge in self.edges:\n",
    "            self.adj_list[edge[0]].append(edge[1])\n",
    "            self.adj_list[edge[1]].append(edge[0])\n",
    "\n",
    "    def remove_edge(self, edge):\n",
    "        self.adj_list[edge[0]].remove(edge[1])\n",
    "        self.adj_list[edge[1]].remove(edge[0])"
   ]
  },
  {
   "cell_type": "code",
   "execution_count": 21,
   "metadata": {},
   "outputs": [],
   "source": [
    "def GetNeighbors(node):\n",
    "    return graph.adj_list[node]\n",
    "\n",
    "def GetGwNeighbors(node):\n",
    "    gw_neighbors = []\n",
    "    for i in GetNeighbors(node):\n",
    "        if i in graph.gw:\n",
    "            gw_neighbors.append(i)\n",
    "    return gw_neighbors\n",
    "\n",
    "def GetDistanceToClosestGateway(graph, gateways):\n",
    "    dist_closest_gw = {node: float('inf') for node in graph.nodes}\n",
    "    \n",
    "    for gw in gateways:\n",
    "        dist_closest_gw[gw] = 0\n",
    "    \n",
    "    queue = Queue()\n",
    "    for gw in gateways:\n",
    "        queue.put(gw)\n",
    "\n",
    "    while not queue.empty():\n",
    "        source = queue.get()\n",
    "        for i in graph.adj_list[source]:\n",
    "            if dist_closest_gw[i] == float('inf'):\n",
    "                idist = dist_closest_gw[source] + 1\n",
    "                dist_closest_gw[i] = idist\n",
    "                queue.put(i)\n",
    "    return dist_closest_gw\n",
    "\n",
    "def distance_from_node(graph, s):\n",
    "    # Initialize the distances dictionary\n",
    "    distances = {node: float('inf') for node in graph.nodes}\n",
    "    distances[s] = 0\n",
    "\n",
    "    # Initialize the queue for BFS\n",
    "    queue = deque()\n",
    "    queue.append(s)\n",
    "\n",
    "    # BFS traversal\n",
    "    while queue:\n",
    "        curr_node = queue.popleft()\n",
    "        for neighbor in graph.adj_list[curr_node]:\n",
    "            if distances[neighbor] == float('inf'):\n",
    "                distances[neighbor] = distances[curr_node] + 1\n",
    "                queue.append(neighbor)\n",
    "    return distances\n",
    "\n",
    "def edge_weight(edge):\n",
    "    if edge[0] in graph.gw or edge[1] in graph.gw:\n",
    "        return 0\n",
    "    else:\n",
    "        return 1\n",
    "\n",
    "def get_zero_weighted_subgraph(graph):\n",
    "    zero_weighted_edges = []\n",
    "    nodes_in_zero_weighted_edges = set()\n",
    "\n",
    "    # Iterate over all edges in the graph and add any 0-weighted edges to our list\n",
    "    for edge in graph.edges:\n",
    "        if edge_weight(edge) == 0:\n",
    "            zero_weighted_edges.append(edge)\n",
    "            nodes_in_zero_weighted_edges.add(edge[0])\n",
    "            nodes_in_zero_weighted_edges.add(edge[1])\n",
    "\n",
    "    # Create a new graph containing only the zero-weighted edges and nodes\n",
    "    zero_weighted_graph = Graph(list(nodes_in_zero_weighted_edges), zero_weighted_edges, graph.gw)\n",
    "\n",
    "    return zero_weighted_graph\n"
   ]
  },
  {
   "cell_type": "code",
   "execution_count": 22,
   "metadata": {},
   "outputs": [],
   "source": [
    "# def lien_a_couper(si):\n",
    "#     if len(GetGwNeighbors(si)) == 0:\n",
    "#         list_death_nodes = sorted([[i, len(GetGwNeighbors(i)), distance_from_node(graph, si)[i]] for i in range(n_nodes) if len(GetGwNeighbors(i))>1], key=lambda x: x[2])\n",
    "#         if list_death_nodes != []:\n",
    "#             death_node = list_death_nodes[0][0]\n",
    "#         else:\n",
    "#             # ce n'est pas vraiment un death_node, c'est par ici qu'il faudra prioriser les noeuds à étudier pour la suite\n",
    "#             noeud_cible = sorted([[i, distance_from_node(graph, si)[i]] for i in range(n_nodes) if len(GetGwNeighbors(i))>0], key=lambda x: x[1])[0][0]\n",
    "#             death_node = noeud_cible\n",
    "#         # on renvoie le lien à couper en fonction du death_node/noeud_cible\n",
    "#         for node in graph.adj_list[death_node]:\n",
    "#             if node in graph.gw:\n",
    "#                 for e in graph.edges:\n",
    "#                     if death_node in e and node in e:\n",
    "#                         return e\n",
    "#     elif len(GetGwNeighbors(si)) == 1:\n",
    "#         for e in graph.edges:\n",
    "#             if si in e and GetGwNeighbors(si)[0] in e:\n",
    "#                 return e"
   ]
  },
  {
   "cell_type": "code",
   "execution_count": 23,
   "metadata": {},
   "outputs": [],
   "source": [
    "def lien_a_couper(si):\n",
    "    if len(GetGwNeighbors(si)) == 0:\n",
    "        list_death_nodes = sorted([[i, len(GetGwNeighbors(i)), distance_from_node(graph, si)[i]] for i in range(n_nodes) if len(GetGwNeighbors(i))>1], key=lambda x: x[2])\n",
    "        if list_death_nodes != []:\n",
    "            # death_node = list_death_nodes[0][0]\n",
    "            death_node = sorted([[i, distance_from_node(graph, si)[i]] for i in sub_graph.nodes], key=lambda x: x[1], reverse=False)[0][0]\n",
    "        else:\n",
    "            # ce n'est pas vraiment un death_node, c'est par ici qu'il faudra prioriser les noeuds à étudier pour la suite\n",
    "            noeud_cible = sorted([[i, distance_from_node(graph, si)[i]] for i in range(n_nodes) if len(GetGwNeighbors(i))>0], key=lambda x: x[1])[0][0]\n",
    "            death_node = noeud_cible\n",
    "        # on renvoie le lien à couper en fonction du death_node/noeud_cible\n",
    "        for node in graph.adj_list[death_node]:\n",
    "            if node in graph.gw:\n",
    "                for e in graph.edges:\n",
    "                    if death_node in e and node in e:\n",
    "                        return e\n",
    "    elif len(GetGwNeighbors(si)) == 1:\n",
    "        for e in graph.edges:\n",
    "            if si in e and GetGwNeighbors(si)[0] in e:\n",
    "                return e"
   ]
  },
  {
   "cell_type": "code",
   "execution_count": 67,
   "metadata": {},
   "outputs": [
    {
     "name": "stdout",
     "output_type": "stream",
     "text": [
      "[]\n",
      "[[17, 2, 3], [27, 2, 4]]\n",
      "1\n"
     ]
    }
   ],
   "source": [
    "print(GetGwNeighbors(3))\n",
    "list_death_nodes = sorted([[i, len(GetGwNeighbors(i)), distance_from_node(graph, si)[i]] for i in range(n_nodes) if len(GetGwNeighbors(i))>1], key=lambda x: x[2])\n",
    "print(list_death_nodes)\n",
    "print(sorted([[i, distance_from_node(graph, si)[i]] for i in sub_graph.nodes], key=lambda x: x[1], reverse=False)[0][0])"
   ]
  },
  {
   "cell_type": "code",
   "execution_count": 7,
   "metadata": {},
   "outputs": [],
   "source": [
    "# niveau 4\n",
    "\n",
    "si = 0\n",
    "l_init = [22, 37, 7]\n",
    "n_nodes = l_init[0]\n",
    "l_nodes = [i for i in range(n_nodes)]\n",
    "l_edges = [[5, 1], [1, 2], [2, 3], [3, 4], [4, 5], [0, 1], [0, 2], [0, 3], [0, 4], [0, 5], [5, 7], [1, 8], [2, 9], [3, 10], [10, 6], [7, 8], [8, 9], [3, 9], [2, 8], [4, 10], [7, 12], [4, 14], [14, 6], [13, 5], [13, 6], [1, 15], [6, 16], [7, 17], [17, 6], [10, 18], [9, 19], [6, 11], [12, 1], [7, 20], [21, 9], [21, 10], [21, 3]]\n",
    "l_gw = [11, 12, 15, 16, 18, 19, 20]\n",
    "graph = Graph(l_nodes, l_edges, l_gw)"
   ]
  },
  {
   "cell_type": "code",
   "execution_count": 2,
   "metadata": {},
   "outputs": [
    {
     "ename": "NameError",
     "evalue": "name 'Graph' is not defined",
     "output_type": "error",
     "traceback": [
      "\u001b[1;31m---------------------------------------------------------------------------\u001b[0m",
      "\u001b[1;31mNameError\u001b[0m                                 Traceback (most recent call last)",
      "Cell \u001b[1;32mIn[2], line 10\u001b[0m\n\u001b[0;32m      8\u001b[0m l_edges \u001b[39m=\u001b[39m [[\u001b[39m2\u001b[39m, \u001b[39m5\u001b[39m], [\u001b[39m14\u001b[39m, \u001b[39m13\u001b[39m], [\u001b[39m16\u001b[39m, \u001b[39m13\u001b[39m], [\u001b[39m19\u001b[39m, \u001b[39m21\u001b[39m], [\u001b[39m13\u001b[39m, \u001b[39m7\u001b[39m], [\u001b[39m16\u001b[39m, \u001b[39m8\u001b[39m], [\u001b[39m35\u001b[39m, \u001b[39m5\u001b[39m], [\u001b[39m2\u001b[39m, \u001b[39m35\u001b[39m], [\u001b[39m10\u001b[39m, \u001b[39m0\u001b[39m], [\u001b[39m8\u001b[39m, \u001b[39m3\u001b[39m], [\u001b[39m23\u001b[39m, \u001b[39m16\u001b[39m], [\u001b[39m0\u001b[39m, \u001b[39m1\u001b[39m], [\u001b[39m31\u001b[39m, \u001b[39m17\u001b[39m], [\u001b[39m19\u001b[39m, \u001b[39m22\u001b[39m], [\u001b[39m12\u001b[39m, \u001b[39m11\u001b[39m], [\u001b[39m1\u001b[39m, \u001b[39m2\u001b[39m], [\u001b[39m1\u001b[39m, \u001b[39m4\u001b[39m], [\u001b[39m14\u001b[39m, \u001b[39m9\u001b[39m], [\u001b[39m17\u001b[39m, \u001b[39m16\u001b[39m], [\u001b[39m30\u001b[39m, \u001b[39m29\u001b[39m], [\u001b[39m32\u001b[39m, \u001b[39m22\u001b[39m], [\u001b[39m28\u001b[39m, \u001b[39m26\u001b[39m], [\u001b[39m24\u001b[39m, \u001b[39m23\u001b[39m], [\u001b[39m20\u001b[39m, \u001b[39m19\u001b[39m], [\u001b[39m15\u001b[39m, \u001b[39m13\u001b[39m], [\u001b[39m18\u001b[39m, \u001b[39m17\u001b[39m], [\u001b[39m6\u001b[39m, \u001b[39m1\u001b[39m], [\u001b[39m29\u001b[39m, \u001b[39m28\u001b[39m], [\u001b[39m15\u001b[39m, \u001b[39m14\u001b[39m], [\u001b[39m9\u001b[39m, \u001b[39m13\u001b[39m], [\u001b[39m32\u001b[39m, \u001b[39m18\u001b[39m], [\u001b[39m25\u001b[39m, \u001b[39m26\u001b[39m], [\u001b[39m1\u001b[39m, \u001b[39m7\u001b[39m], [\u001b[39m34\u001b[39m, \u001b[39m35\u001b[39m], [\u001b[39m33\u001b[39m, \u001b[39m34\u001b[39m], [\u001b[39m27\u001b[39m, \u001b[39m16\u001b[39m], [\u001b[39m27\u001b[39m, \u001b[39m26\u001b[39m], [\u001b[39m23\u001b[39m, \u001b[39m25\u001b[39m], [\u001b[39m33\u001b[39m, \u001b[39m3\u001b[39m], [\u001b[39m16\u001b[39m, \u001b[39m30\u001b[39m], [\u001b[39m25\u001b[39m, \u001b[39m24\u001b[39m], [\u001b[39m3\u001b[39m, \u001b[39m2\u001b[39m], [\u001b[39m5\u001b[39m, \u001b[39m4\u001b[39m], [\u001b[39m31\u001b[39m, \u001b[39m32\u001b[39m], [\u001b[39m27\u001b[39m, \u001b[39m25\u001b[39m], [\u001b[39m19\u001b[39m, \u001b[39m3\u001b[39m], [\u001b[39m17\u001b[39m, \u001b[39m8\u001b[39m], [\u001b[39m4\u001b[39m, \u001b[39m2\u001b[39m], [\u001b[39m32\u001b[39m, \u001b[39m17\u001b[39m], [\u001b[39m10\u001b[39m, \u001b[39m11\u001b[39m], [\u001b[39m29\u001b[39m, \u001b[39m27\u001b[39m], [\u001b[39m30\u001b[39m, \u001b[39m27\u001b[39m], [\u001b[39m6\u001b[39m, \u001b[39m4\u001b[39m], [\u001b[39m24\u001b[39m, \u001b[39m15\u001b[39m], [\u001b[39m9\u001b[39m, \u001b[39m10\u001b[39m], [\u001b[39m34\u001b[39m, \u001b[39m2\u001b[39m], [\u001b[39m9\u001b[39m, \u001b[39m7\u001b[39m], [\u001b[39m11\u001b[39m, \u001b[39m6\u001b[39m], [\u001b[39m33\u001b[39m, \u001b[39m2\u001b[39m], [\u001b[39m14\u001b[39m, \u001b[39m10\u001b[39m], [\u001b[39m12\u001b[39m, \u001b[39m6\u001b[39m], [\u001b[39m0\u001b[39m, \u001b[39m6\u001b[39m], [\u001b[39m19\u001b[39m, \u001b[39m17\u001b[39m], [\u001b[39m20\u001b[39m, \u001b[39m3\u001b[39m], [\u001b[39m21\u001b[39m, \u001b[39m20\u001b[39m], [\u001b[39m21\u001b[39m, \u001b[39m32\u001b[39m], [\u001b[39m15\u001b[39m, \u001b[39m16\u001b[39m], [\u001b[39m0\u001b[39m, \u001b[39m9\u001b[39m], [\u001b[39m23\u001b[39m, \u001b[39m27\u001b[39m], [\u001b[39m11\u001b[39m, \u001b[39m0\u001b[39m], [\u001b[39m28\u001b[39m, \u001b[39m27\u001b[39m], [\u001b[39m22\u001b[39m, \u001b[39m18\u001b[39m], [\u001b[39m3\u001b[39m, \u001b[39m1\u001b[39m], [\u001b[39m23\u001b[39m, \u001b[39m15\u001b[39m], [\u001b[39m18\u001b[39m, \u001b[39m19\u001b[39m], [\u001b[39m7\u001b[39m, \u001b[39m0\u001b[39m], [\u001b[39m19\u001b[39m, \u001b[39m8\u001b[39m], [\u001b[39m21\u001b[39m, \u001b[39m22\u001b[39m], [\u001b[39m7\u001b[39m, \u001b[39m36\u001b[39m], [\u001b[39m13\u001b[39m, \u001b[39m36\u001b[39m], [\u001b[39m8\u001b[39m, \u001b[39m36\u001b[39m]]\n\u001b[0;32m      9\u001b[0m l_gw \u001b[39m=\u001b[39m [\u001b[39m0\u001b[39m, \u001b[39m16\u001b[39m, \u001b[39m18\u001b[39m, \u001b[39m26\u001b[39m]\n\u001b[1;32m---> 10\u001b[0m graph \u001b[39m=\u001b[39m Graph(l_nodes, l_edges, l_gw)\n\u001b[0;32m     11\u001b[0m sub_graph \u001b[39m=\u001b[39m get_zero_weighted_subgraph(graph)\n\u001b[0;32m     13\u001b[0m list_si \u001b[39m=\u001b[39m [si]\n",
      "\u001b[1;31mNameError\u001b[0m: name 'Graph' is not defined"
     ]
    }
   ],
   "source": [
    "# niveau 5\n",
    "\n",
    "si = 2\n",
    "\n",
    "l_init = [37, 81, 4]\n",
    "n_nodes = l_init[0]\n",
    "l_nodes = [i for i in range(n_nodes)]\n",
    "l_edges = [[2, 5], [14, 13], [16, 13], [19, 21], [13, 7], [16, 8], [35, 5], [2, 35], [10, 0], [8, 3], [23, 16], [0, 1], [31, 17], [19, 22], [12, 11], [1, 2], [1, 4], [14, 9], [17, 16], [30, 29], [32, 22], [28, 26], [24, 23], [20, 19], [15, 13], [18, 17], [6, 1], [29, 28], [15, 14], [9, 13], [32, 18], [25, 26], [1, 7], [34, 35], [33, 34], [27, 16], [27, 26], [23, 25], [33, 3], [16, 30], [25, 24], [3, 2], [5, 4], [31, 32], [27, 25], [19, 3], [17, 8], [4, 2], [32, 17], [10, 11], [29, 27], [30, 27], [6, 4], [24, 15], [9, 10], [34, 2], [9, 7], [11, 6], [33, 2], [14, 10], [12, 6], [0, 6], [19, 17], [20, 3], [21, 20], [21, 32], [15, 16], [0, 9], [23, 27], [11, 0], [28, 27], [22, 18], [3, 1], [23, 15], [18, 19], [7, 0], [19, 8], [21, 22], [7, 36], [13, 36], [8, 36]]\n",
    "l_gw = [0, 16, 18, 26]\n",
    "graph = Graph(l_nodes, l_edges, l_gw)\n",
    "sub_graph = get_zero_weighted_subgraph(graph)\n",
    "\n",
    "list_si = [si]\n",
    "\n",
    "for si in list_si:\n",
    "    print(lien_a_couper(si))\n",
    "    graph.remove_edge(lien_a_couper(si))\n",
    "    # if lien_a_couper(si) in sub_graph.edges:\n",
    "    #     sub_graph.remove_edge(lien_a_couper(si))\n",
    "    # enelver le noeud du sub_graph s'il ne possède plus de lien"
   ]
  },
  {
   "cell_type": "code",
   "execution_count": 66,
   "metadata": {},
   "outputs": [
    {
     "data": {
      "text/plain": [
       "{0: [10, 1, 6, 9, 11, 7],\n",
       " 1: [0],\n",
       " 6: [0],\n",
       " 7: [0],\n",
       " 8: [16],\n",
       " 9: [0],\n",
       " 10: [0],\n",
       " 11: [0],\n",
       " 13: [16],\n",
       " 15: [16],\n",
       " 16: [13, 8, 23, 17, 27, 30, 15],\n",
       " 17: [16, 18],\n",
       " 18: [17, 32, 22, 19],\n",
       " 19: [18],\n",
       " 22: [18],\n",
       " 23: [16],\n",
       " 25: [26],\n",
       " 26: [28, 25, 27],\n",
       " 27: [16, 26],\n",
       " 28: [26],\n",
       " 30: [16],\n",
       " 32: [18]}"
      ]
     },
     "execution_count": 66,
     "metadata": {},
     "output_type": "execute_result"
    }
   ],
   "source": [
    "sub_graph.adj_list"
   ]
  },
  {
   "cell_type": "code",
   "execution_count": 18,
   "metadata": {},
   "outputs": [],
   "source": []
  },
  {
   "cell_type": "code",
   "execution_count": 13,
   "metadata": {},
   "outputs": [
    {
     "data": {
      "text/plain": [
       "{0: [10, 1, 6, 9, 11, 7],\n",
       " 1: [0],\n",
       " 6: [0],\n",
       " 7: [0],\n",
       " 8: [16],\n",
       " 9: [0],\n",
       " 10: [0],\n",
       " 11: [0],\n",
       " 13: [16],\n",
       " 15: [16],\n",
       " 16: [13, 8, 23, 17, 27, 30, 15],\n",
       " 17: [16, 18],\n",
       " 18: [17, 32, 22, 19],\n",
       " 19: [18],\n",
       " 22: [18],\n",
       " 23: [16],\n",
       " 25: [26],\n",
       " 26: [28, 25, 27],\n",
       " 27: [16, 26],\n",
       " 28: [26],\n",
       " 30: [16],\n",
       " 32: [18]}"
      ]
     },
     "execution_count": 13,
     "metadata": {},
     "output_type": "execute_result"
    }
   ],
   "source": [
    "sub_graph = get_zero_weighted_subgraph(graph)\n",
    "sub_graph.adj_list"
   ]
  },
  {
   "cell_type": "code",
   "execution_count": 44,
   "metadata": {},
   "outputs": [],
   "source": [
    "# les noeuds de ce graphe ne doivent pas être atteints,\n",
    "# ils sont tous des death_nodes\n",
    "# il faut les prioriser"
   ]
  },
  {
   "cell_type": "code",
   "execution_count": 45,
   "metadata": {},
   "outputs": [],
   "source": [
    "# Ré-écrire les fonctions en méthodes de la classe Graph"
   ]
  },
  {
   "cell_type": "code",
   "execution_count": 61,
   "metadata": {},
   "outputs": [
    {
     "data": {
      "text/plain": [
       "1"
      ]
     },
     "execution_count": 61,
     "metadata": {},
     "output_type": "execute_result"
    }
   ],
   "source": [
    "death_node = sorted([[i, distance_from_node(graph, si)[i]] for i in sub_graph.nodes], key=lambda x: x[1], reverse=False)[0][0]\n",
    "death_node"
   ]
  },
  {
   "cell_type": "code",
   "execution_count": 56,
   "metadata": {},
   "outputs": [],
   "source": [
    "# distance_from_node(graph, 2)"
   ]
  },
  {
   "cell_type": "code",
   "execution_count": null,
   "metadata": {},
   "outputs": [],
   "source": []
  }
 ],
 "metadata": {
  "kernelspec": {
   "display_name": "Python 3",
   "language": "python",
   "name": "python3"
  },
  "language_info": {
   "codemirror_mode": {
    "name": "ipython",
    "version": 3
   },
   "file_extension": ".py",
   "mimetype": "text/x-python",
   "name": "python",
   "nbconvert_exporter": "python",
   "pygments_lexer": "ipython3",
   "version": "3.10.10"
  },
  "orig_nbformat": 4,
  "vscode": {
   "interpreter": {
    "hash": "8407a3fab9c8e8b7267fcc0f48888f0da2dc474dc805d2bb2f71a9c0116af57e"
   }
  }
 },
 "nbformat": 4,
 "nbformat_minor": 2
}
